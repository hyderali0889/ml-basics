{
 "cells": [
  {
   "cell_type": "code",
   "execution_count": 1,
   "id": "9ed9bfcb",
   "metadata": {},
   "outputs": [],
   "source": [
    "import numpy as np"
   ]
  },
  {
   "cell_type": "code",
   "execution_count": 2,
   "id": "c783bcea",
   "metadata": {},
   "outputs": [
    {
     "data": {
      "text/plain": [
       "array([1, 2, 3])"
      ]
     },
     "execution_count": 2,
     "metadata": {},
     "output_type": "execute_result"
    }
   ],
   "source": [
    "a1 = np.array([1,2,3])\n",
    "a1"
   ]
  },
  {
   "cell_type": "code",
   "execution_count": 3,
   "id": "94e147db",
   "metadata": {},
   "outputs": [
    {
     "data": {
      "text/plain": [
       "numpy.ndarray"
      ]
     },
     "execution_count": 3,
     "metadata": {},
     "output_type": "execute_result"
    }
   ],
   "source": [
    "type(a1)"
   ]
  },
  {
   "cell_type": "code",
   "execution_count": 4,
   "id": "41668e9f",
   "metadata": {},
   "outputs": [
    {
     "data": {
      "text/plain": [
       "array([[1, 2, 3],\n",
       "       [4, 5, 6]])"
      ]
     },
     "execution_count": 4,
     "metadata": {},
     "output_type": "execute_result"
    }
   ],
   "source": [
    "a2 = np.array([\n",
    "    [ 1,2,3 ] ,\n",
    "    [4,5,6]\n",
    "])\n",
    "a2"
   ]
  },
  {
   "cell_type": "code",
   "execution_count": 8,
   "id": "828d72ed",
   "metadata": {},
   "outputs": [
    {
     "data": {
      "text/plain": [
       "array([[list([[1, 2, 3], [4, 5, 6]]), list([7, 8, 9])]], dtype=object)"
      ]
     },
     "execution_count": 8,
     "metadata": {},
     "output_type": "execute_result"
    }
   ],
   "source": [
    "a3 = np.array([ [[ [1,2,3] , [4,5,6] ],[ 7,8,9] ]] , dtype=object)\n",
    "a3"
   ]
  },
  {
   "cell_type": "code",
   "execution_count": 9,
   "id": "53cfe756",
   "metadata": {},
   "outputs": [
    {
     "data": {
      "text/plain": [
       "array([[list([[1, 2, 3], [4, 5, 6]]), list([7, 8, 9])]], dtype=object)"
      ]
     },
     "execution_count": 9,
     "metadata": {},
     "output_type": "execute_result"
    }
   ],
   "source": [
    "a3"
   ]
  },
  {
   "cell_type": "code",
   "execution_count": 10,
   "id": "ec1e8131",
   "metadata": {},
   "outputs": [
    {
     "data": {
      "text/plain": [
       "numpy.ndarray"
      ]
     },
     "execution_count": 10,
     "metadata": {},
     "output_type": "execute_result"
    }
   ],
   "source": [
    "type(a3)"
   ]
  },
  {
   "cell_type": "markdown",
   "id": "e2f29431",
   "metadata": {},
   "source": [
    "# Creating Arrays"
   ]
  },
  {
   "cell_type": "code",
   "execution_count": 12,
   "id": "132af0bd",
   "metadata": {},
   "outputs": [],
   "source": [
    "ones = np.ones((5,3))"
   ]
  },
  {
   "cell_type": "code",
   "execution_count": 13,
   "id": "08437560",
   "metadata": {},
   "outputs": [
    {
     "data": {
      "text/plain": [
       "array([[1., 1., 1.],\n",
       "       [1., 1., 1.],\n",
       "       [1., 1., 1.],\n",
       "       [1., 1., 1.],\n",
       "       [1., 1., 1.]])"
      ]
     },
     "execution_count": 13,
     "metadata": {},
     "output_type": "execute_result"
    }
   ],
   "source": [
    "ones"
   ]
  },
  {
   "cell_type": "code",
   "execution_count": 14,
   "id": "1afb3d04",
   "metadata": {},
   "outputs": [
    {
     "data": {
      "text/plain": [
       "array([[0., 0., 0., 0.],\n",
       "       [0., 0., 0., 0.]])"
      ]
     },
     "execution_count": 14,
     "metadata": {},
     "output_type": "execute_result"
    }
   ],
   "source": [
    "zeros = np.zeros((2,4))\n",
    "zeros"
   ]
  },
  {
   "cell_type": "code",
   "execution_count": 15,
   "id": "532b4343",
   "metadata": {},
   "outputs": [
    {
     "data": {
      "text/plain": [
       "array([ 0,  1,  2,  3,  4,  5,  6,  7,  8,  9, 10, 11, 12, 13, 14, 15, 16,\n",
       "       17, 18, 19])"
      ]
     },
     "execution_count": 15,
     "metadata": {},
     "output_type": "execute_result"
    }
   ],
   "source": [
    "range = np.arange(0,20,1)\n",
    "range"
   ]
  },
  {
   "cell_type": "code",
   "execution_count": 17,
   "id": "f18e4899",
   "metadata": {},
   "outputs": [
    {
     "data": {
      "text/plain": [
       "array([[0.80958597, 0.49645488, 0.89291419],\n",
       "       [0.64143523, 0.94533551, 0.65890752],\n",
       "       [0.5763115 , 0.44573436, 0.50620671],\n",
       "       [0.11837435, 0.03150781, 0.64768763]])"
      ]
     },
     "execution_count": 17,
     "metadata": {},
     "output_type": "execute_result"
    }
   ],
   "source": [
    "random = np.random.random(size=(4,3))\n",
    "random"
   ]
  },
  {
   "cell_type": "code",
   "execution_count": 18,
   "id": "18aaddce",
   "metadata": {},
   "outputs": [
    {
     "data": {
      "text/plain": [
       "12"
      ]
     },
     "execution_count": 18,
     "metadata": {},
     "output_type": "execute_result"
    }
   ],
   "source": [
    "random.size"
   ]
  },
  {
   "cell_type": "code",
   "execution_count": 26,
   "id": "9f7aa262",
   "metadata": {},
   "outputs": [
    {
     "data": {
      "text/plain": [
       "array([[[[0.4359949 , 0.02592623, 0.54966248, 0.43532239, 0.4203678 ]],\n",
       "\n",
       "        [[0.33033482, 0.20464863, 0.61927097, 0.29965467, 0.26682728]]],\n",
       "\n",
       "\n",
       "       [[[0.62113383, 0.52914209, 0.13457995, 0.51357812, 0.18443987]],\n",
       "\n",
       "        [[0.78533515, 0.85397529, 0.49423684, 0.84656149, 0.07964548]]],\n",
       "\n",
       "\n",
       "       [[[0.50524609, 0.0652865 , 0.42812233, 0.09653092, 0.12715997]],\n",
       "\n",
       "        [[0.59674531, 0.226012  , 0.10694568, 0.22030621, 0.34982629]]],\n",
       "\n",
       "\n",
       "       [[[0.46778748, 0.20174323, 0.64040673, 0.48306984, 0.50523672]],\n",
       "\n",
       "        [[0.38689265, 0.79363745, 0.58000418, 0.1622986 , 0.70075235]]]])"
      ]
     },
     "execution_count": 26,
     "metadata": {},
     "output_type": "execute_result"
    }
   ],
   "source": [
    "# random.seed keeps random numbers same so that some one else on team gets the same results as us\n",
    "np.random.seed(2)\n",
    "rand  = np.random.rand(4,2,1,5)\n",
    "rand"
   ]
  },
  {
   "cell_type": "code",
   "execution_count": 24,
   "id": "8a909c81",
   "metadata": {},
   "outputs": [
    {
     "data": {
      "text/plain": [
       "array([[[26, 19],\n",
       "        [32, 32]],\n",
       "\n",
       "       [[26,  8],\n",
       "        [12, 10]],\n",
       "\n",
       "       [[34,  9],\n",
       "        [37,  6]],\n",
       "\n",
       "       [[22,  6],\n",
       "        [19, 18]]])"
      ]
     },
     "execution_count": 24,
     "metadata": {},
     "output_type": "execute_result"
    }
   ],
   "source": [
    "random_int = np.random.randint(0,40 , size=(4,2,2))\n",
    "random_int"
   ]
  },
  {
   "cell_type": "code",
   "execution_count": 27,
   "id": "39141fe4",
   "metadata": {},
   "outputs": [
    {
     "data": {
      "text/plain": [
       "array([ 6,  8,  9, 10, 12, 18, 19, 22, 26, 32, 34, 37])"
      ]
     },
     "execution_count": 27,
     "metadata": {},
     "output_type": "execute_result"
    }
   ],
   "source": [
    "np.unique(random_int)"
   ]
  },
  {
   "cell_type": "markdown",
   "id": "d6a4a717",
   "metadata": {},
   "source": [
    "# Viewing arrays"
   ]
  },
  {
   "cell_type": "code",
   "execution_count": 32,
   "id": "f327e4fc",
   "metadata": {},
   "outputs": [],
   "source": [
    "a3 = np.array([ \n",
    "    [\n",
    "    [1,2,3] ,\n",
    "    [4,5,6]\n",
    "    ] \n",
    "    ,    \n",
    "    [\n",
    "    [7,8,9],\n",
    "    [0,4,7]\n",
    "    ],    \n",
    "])"
   ]
  },
  {
   "cell_type": "code",
   "execution_count": 33,
   "id": "0bd70b7a",
   "metadata": {},
   "outputs": [
    {
     "data": {
      "text/plain": [
       "(2, 2, 3)"
      ]
     },
     "execution_count": 33,
     "metadata": {},
     "output_type": "execute_result"
    }
   ],
   "source": [
    "a3.shape"
   ]
  },
  {
   "cell_type": "code",
   "execution_count": 34,
   "id": "5838a02f",
   "metadata": {},
   "outputs": [
    {
     "data": {
      "text/plain": [
       "array([[1, 2, 3],\n",
       "       [4, 5, 6]])"
      ]
     },
     "execution_count": 34,
     "metadata": {},
     "output_type": "execute_result"
    }
   ],
   "source": [
    "a3[0]"
   ]
  },
  {
   "cell_type": "code",
   "execution_count": 37,
   "id": "dab986f4",
   "metadata": {},
   "outputs": [
    {
     "data": {
      "text/plain": [
       "array([[[1, 2]],\n",
       "\n",
       "       [[7, 8]]])"
      ]
     },
     "execution_count": 37,
     "metadata": {},
     "output_type": "execute_result"
    }
   ],
   "source": [
    "a3[:,:1,:2]"
   ]
  },
  {
   "cell_type": "code",
   "execution_count": 38,
   "id": "7a385d03",
   "metadata": {},
   "outputs": [
    {
     "data": {
      "text/plain": [
       "1"
      ]
     },
     "execution_count": 38,
     "metadata": {},
     "output_type": "execute_result"
    }
   ],
   "source": [
    "a1[0]"
   ]
  },
  {
   "cell_type": "code",
   "execution_count": 39,
   "id": "77f65ae0",
   "metadata": {},
   "outputs": [
    {
     "data": {
      "text/plain": [
       "array([1, 2, 3])"
      ]
     },
     "execution_count": 39,
     "metadata": {},
     "output_type": "execute_result"
    }
   ],
   "source": [
    "a2[0]"
   ]
  },
  {
   "cell_type": "code",
   "execution_count": 40,
   "id": "7fc8663b",
   "metadata": {},
   "outputs": [
    {
     "data": {
      "text/plain": [
       "2"
      ]
     },
     "execution_count": 40,
     "metadata": {},
     "output_type": "execute_result"
    }
   ],
   "source": [
    "a2[0][1]"
   ]
  },
  {
   "cell_type": "code",
   "execution_count": null,
   "id": "f81819e5",
   "metadata": {},
   "outputs": [],
   "source": []
  }
 ],
 "metadata": {
  "kernelspec": {
   "display_name": "Python 3 (ipykernel)",
   "language": "python",
   "name": "python3"
  },
  "language_info": {
   "codemirror_mode": {
    "name": "ipython",
    "version": 3
   },
   "file_extension": ".py",
   "mimetype": "text/x-python",
   "name": "python",
   "nbconvert_exporter": "python",
   "pygments_lexer": "ipython3",
   "version": "3.11.3"
  }
 },
 "nbformat": 4,
 "nbformat_minor": 5
}
